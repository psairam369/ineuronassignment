{
 "metadata": {
  "language_info": {
   "codemirror_mode": {
    "name": "ipython",
    "version": 3
   },
   "file_extension": ".py",
   "mimetype": "text/x-python",
   "name": "python",
   "nbconvert_exporter": "python",
   "pygments_lexer": "ipython3",
   "version": "3.8.3-final"
  },
  "orig_nbformat": 2,
  "kernelspec": {
   "name": "python3",
   "display_name": "Python 3.8.3 64-bit ('base': conda)",
   "metadata": {
    "interpreter": {
     "hash": "e2b4d07eda8c2938650c2faa7b21a7be606f50ae35f5a0a4df50e1299a19d1ea"
    }
   }
  }
 },
 "nbformat": 4,
 "nbformat_minor": 2,
 "cells": [
  {
   "cell_type": "code",
   "execution_count": 52,
   "metadata": {},
   "outputs": [],
   "source": [
    "import numpy as np\n",
    "import pandas as pd\n",
    "import matplotlib.pyplot as plt\n",
    "import seaborn as sns\n",
    "from sklearn.model_selection import train_test_split,GridSearchCV\n",
    "from sklearn.preprocessing import StandardScaler \n",
    "from sklearn import datasets "
   ]
  },
  {
   "cell_type": "code",
   "execution_count": 53,
   "metadata": {},
   "outputs": [],
   "source": [
    "boston = datasets.load_boston()\n",
    "targets = boston.target\n",
    "features = pd.DataFrame(boston.data,columns=boston.feature_names)"
   ]
  },
  {
   "cell_type": "code",
   "execution_count": 54,
   "metadata": {},
   "outputs": [
    {
     "output_type": "execute_result",
     "data": {
      "text/plain": [
       "      CRIM    ZN  INDUS  CHAS    NOX     RM   AGE     DIS  RAD    TAX  \\\n",
       "0  0.00632  18.0   2.31   0.0  0.538  6.575  65.2  4.0900  1.0  296.0   \n",
       "1  0.02731   0.0   7.07   0.0  0.469  6.421  78.9  4.9671  2.0  242.0   \n",
       "2  0.02729   0.0   7.07   0.0  0.469  7.185  61.1  4.9671  2.0  242.0   \n",
       "3  0.03237   0.0   2.18   0.0  0.458  6.998  45.8  6.0622  3.0  222.0   \n",
       "4  0.06905   0.0   2.18   0.0  0.458  7.147  54.2  6.0622  3.0  222.0   \n",
       "\n",
       "   PTRATIO       B  LSTAT  \n",
       "0     15.3  396.90   4.98  \n",
       "1     17.8  396.90   9.14  \n",
       "2     17.8  392.83   4.03  \n",
       "3     18.7  394.63   2.94  \n",
       "4     18.7  396.90   5.33  "
      ],
      "text/html": "<div>\n<style scoped>\n    .dataframe tbody tr th:only-of-type {\n        vertical-align: middle;\n    }\n\n    .dataframe tbody tr th {\n        vertical-align: top;\n    }\n\n    .dataframe thead th {\n        text-align: right;\n    }\n</style>\n<table border=\"1\" class=\"dataframe\">\n  <thead>\n    <tr style=\"text-align: right;\">\n      <th></th>\n      <th>CRIM</th>\n      <th>ZN</th>\n      <th>INDUS</th>\n      <th>CHAS</th>\n      <th>NOX</th>\n      <th>RM</th>\n      <th>AGE</th>\n      <th>DIS</th>\n      <th>RAD</th>\n      <th>TAX</th>\n      <th>PTRATIO</th>\n      <th>B</th>\n      <th>LSTAT</th>\n    </tr>\n  </thead>\n  <tbody>\n    <tr>\n      <th>0</th>\n      <td>0.00632</td>\n      <td>18.0</td>\n      <td>2.31</td>\n      <td>0.0</td>\n      <td>0.538</td>\n      <td>6.575</td>\n      <td>65.2</td>\n      <td>4.0900</td>\n      <td>1.0</td>\n      <td>296.0</td>\n      <td>15.3</td>\n      <td>396.90</td>\n      <td>4.98</td>\n    </tr>\n    <tr>\n      <th>1</th>\n      <td>0.02731</td>\n      <td>0.0</td>\n      <td>7.07</td>\n      <td>0.0</td>\n      <td>0.469</td>\n      <td>6.421</td>\n      <td>78.9</td>\n      <td>4.9671</td>\n      <td>2.0</td>\n      <td>242.0</td>\n      <td>17.8</td>\n      <td>396.90</td>\n      <td>9.14</td>\n    </tr>\n    <tr>\n      <th>2</th>\n      <td>0.02729</td>\n      <td>0.0</td>\n      <td>7.07</td>\n      <td>0.0</td>\n      <td>0.469</td>\n      <td>7.185</td>\n      <td>61.1</td>\n      <td>4.9671</td>\n      <td>2.0</td>\n      <td>242.0</td>\n      <td>17.8</td>\n      <td>392.83</td>\n      <td>4.03</td>\n    </tr>\n    <tr>\n      <th>3</th>\n      <td>0.03237</td>\n      <td>0.0</td>\n      <td>2.18</td>\n      <td>0.0</td>\n      <td>0.458</td>\n      <td>6.998</td>\n      <td>45.8</td>\n      <td>6.0622</td>\n      <td>3.0</td>\n      <td>222.0</td>\n      <td>18.7</td>\n      <td>394.63</td>\n      <td>2.94</td>\n    </tr>\n    <tr>\n      <th>4</th>\n      <td>0.06905</td>\n      <td>0.0</td>\n      <td>2.18</td>\n      <td>0.0</td>\n      <td>0.458</td>\n      <td>7.147</td>\n      <td>54.2</td>\n      <td>6.0622</td>\n      <td>3.0</td>\n      <td>222.0</td>\n      <td>18.7</td>\n      <td>396.90</td>\n      <td>5.33</td>\n    </tr>\n  </tbody>\n</table>\n</div>"
     },
     "metadata": {},
     "execution_count": 54
    }
   ],
   "source": [
    "features.head(5)"
   ]
  },
  {
   "cell_type": "code",
   "execution_count": 55,
   "metadata": {},
   "outputs": [
    {
     "output_type": "execute_result",
     "data": {
      "text/plain": [
       "Index(['CRIM', 'ZN', 'INDUS', 'CHAS', 'NOX', 'RM', 'AGE', 'DIS', 'RAD', 'TAX',\n",
       "       'PTRATIO', 'B', 'LSTAT'],\n",
       "      dtype='object')"
      ]
     },
     "metadata": {},
     "execution_count": 55
    }
   ],
   "source": [
    "features.columns\n"
   ]
  },
  {
   "cell_type": "code",
   "execution_count": 56,
   "metadata": {},
   "outputs": [
    {
     "output_type": "execute_result",
     "data": {
      "text/plain": [
       "CRIM       0\n",
       "ZN         0\n",
       "INDUS      0\n",
       "CHAS       0\n",
       "NOX        0\n",
       "RM         0\n",
       "AGE        0\n",
       "DIS        0\n",
       "RAD        0\n",
       "TAX        0\n",
       "PTRATIO    0\n",
       "B          0\n",
       "LSTAT      0\n",
       "dtype: int64"
      ]
     },
     "metadata": {},
     "execution_count": 56
    }
   ],
   "source": [
    "features.isna().sum()"
   ]
  },
  {
   "cell_type": "code",
   "execution_count": 57,
   "metadata": {},
   "outputs": [],
   "source": [
    "scaler=StandardScaler()\n",
    "norfeatures=scaler.fit_transform(features)\n"
   ]
  },
  {
   "cell_type": "code",
   "execution_count": 58,
   "metadata": {},
   "outputs": [
    {
     "output_type": "execute_result",
     "data": {
      "text/plain": [
       "(array([[  0., 385., 105.,   9.,   4.,   1.,   2.],\n",
       "        [  0., 372.,  95.,  39.,   0.,   0.,   0.],\n",
       "        [  0., 294., 200.,  12.,   0.,   0.,   0.],\n",
       "        [  0., 471.,   0.,  35.,   0.,   0.,   0.],\n",
       "        [  0., 297., 193.,  16.,   0.,   0.,   0.],\n",
       "        [ 12., 278., 194.,  22.,   0.,   0.,   0.],\n",
       "        [ 16., 203., 287.,   0.,   0.,   0.,   0.],\n",
       "        [  0., 305., 181.,  20.,   0.,   0.,   0.],\n",
       "        [  0., 374., 132.,   0.,   0.,   0.,   0.],\n",
       "        [  0., 340., 166.,   0.,   0.,   0.,   0.],\n",
       "        [ 16., 202., 288.,   0.,   0.,   0.,   0.],\n",
       "        [ 39.,  59., 408.,   0.,   0.,   0.,   0.],\n",
       "        [  0., 292., 189.,  25.,   0.,   0.,   0.]]),\n",
       " array([-3.9071933 , -1.92988989,  0.04741353,  2.02471694,  4.00202036,\n",
       "         5.97932377,  7.95662719,  9.9339306 ]),\n",
       " <a list of 13 BarContainer objects>)"
      ]
     },
     "metadata": {},
     "execution_count": 58
    },
    {
     "output_type": "display_data",
     "data": {
      "text/plain": "<Figure size 432x288 with 1 Axes>",
      "image/svg+xml": "<?xml version=\"1.0\" encoding=\"utf-8\" standalone=\"no\"?>\n<!DOCTYPE svg PUBLIC \"-//W3C//DTD SVG 1.1//EN\"\n  \"http://www.w3.org/Graphics/SVG/1.1/DTD/svg11.dtd\">\n<!-- Created with matplotlib (https://matplotlib.org/) -->\n<svg height=\"248.518125pt\" version=\"1.1\" viewBox=\"0 0 375.2875 248.518125\" width=\"375.2875pt\" xmlns=\"http://www.w3.org/2000/svg\" xmlns:xlink=\"http://www.w3.org/1999/xlink\">\n <metadata>\n  <rdf:RDF xmlns:cc=\"http://creativecommons.org/ns#\" xmlns:dc=\"http://purl.org/dc/elements/1.1/\" xmlns:rdf=\"http://www.w3.org/1999/02/22-rdf-syntax-ns#\">\n   <cc:Work>\n    <dc:type rdf:resource=\"http://purl.org/dc/dcmitype/StillImage\"/>\n    <dc:date>2021-03-25T15:47:09.232666</dc:date>\n    <dc:format>image/svg+xml</dc:format>\n    <dc:creator>\n     <cc:Agent>\n      <dc:title>Matplotlib v3.3.2, https://matplotlib.org/</dc:title>\n     </cc:Agent>\n    </dc:creator>\n   </cc:Work>\n  </rdf:RDF>\n </metadata>\n <defs>\n  <style type=\"text/css\">*{stroke-linecap:butt;stroke-linejoin:round;}</style>\n </defs>\n <g id=\"figure_1\">\n  <g id=\"patch_1\">\n   <path d=\"M 0 248.518125 \nL 375.2875 248.518125 \nL 375.2875 0 \nL 0 0 \nz\n\" style=\"fill:none;\"/>\n  </g>\n  <g id=\"axes_1\">\n   <g id=\"patch_2\">\n    <path d=\"M 33.2875 224.64 \nL 368.0875 224.64 \nL 368.0875 7.2 \nL 33.2875 7.2 \nz\n\" style=\"fill:#ffffff;\"/>\n   </g>\n   <g id=\"patch_3\">\n    <path clip-path=\"url(#pda71cbb39e)\" d=\"M 48.505682 224.64 \nL 51.260104 224.64 \nL 51.260104 224.64 \nL 48.505682 224.64 \nz\n\" style=\"fill:#1f77b4;\"/>\n   </g>\n   <g id=\"patch_4\">\n    <path clip-path=\"url(#pda71cbb39e)\" d=\"M 93.26504 224.64 \nL 96.019462 224.64 \nL 96.019462 55.366115 \nL 93.26504 55.366115 \nz\n\" style=\"fill:#1f77b4;\"/>\n   </g>\n   <g id=\"patch_5\">\n    <path clip-path=\"url(#pda71cbb39e)\" d=\"M 138.024398 224.64 \nL 140.77882 224.64 \nL 140.77882 178.474395 \nL 138.024398 178.474395 \nz\n\" style=\"fill:#1f77b4;\"/>\n   </g>\n   <g id=\"patch_6\">\n    <path clip-path=\"url(#pda71cbb39e)\" d=\"M 182.783757 224.64 \nL 185.538179 224.64 \nL 185.538179 220.682948 \nL 182.783757 220.682948 \nz\n\" style=\"fill:#1f77b4;\"/>\n   </g>\n   <g id=\"patch_7\">\n    <path clip-path=\"url(#pda71cbb39e)\" d=\"M 227.543115 224.64 \nL 230.297537 224.64 \nL 230.297537 222.88131 \nL 227.543115 222.88131 \nz\n\" style=\"fill:#1f77b4;\"/>\n   </g>\n   <g id=\"patch_8\">\n    <path clip-path=\"url(#pda71cbb39e)\" d=\"M 272.302473 224.64 \nL 275.056895 224.64 \nL 275.056895 224.200328 \nL 272.302473 224.200328 \nz\n\" style=\"fill:#1f77b4;\"/>\n   </g>\n   <g id=\"patch_9\">\n    <path clip-path=\"url(#pda71cbb39e)\" d=\"M 317.061832 224.64 \nL 319.816254 224.64 \nL 319.816254 223.760655 \nL 317.061832 223.760655 \nz\n\" style=\"fill:#1f77b4;\"/>\n   </g>\n   <g id=\"patch_10\">\n    <path clip-path=\"url(#pda71cbb39e)\" d=\"M 51.260104 224.64 \nL 54.014526 224.64 \nL 54.014526 224.64 \nL 51.260104 224.64 \nz\n\" style=\"fill:#ff7f0e;\"/>\n   </g>\n   <g id=\"patch_11\">\n    <path clip-path=\"url(#pda71cbb39e)\" d=\"M 96.019462 224.64 \nL 98.773884 224.64 \nL 98.773884 61.081856 \nL 96.019462 61.081856 \nz\n\" style=\"fill:#ff7f0e;\"/>\n   </g>\n   <g id=\"patch_12\">\n    <path clip-path=\"url(#pda71cbb39e)\" d=\"M 140.77882 224.64 \nL 143.533242 224.64 \nL 143.533242 182.871119 \nL 140.77882 182.871119 \nz\n\" style=\"fill:#ff7f0e;\"/>\n   </g>\n   <g id=\"patch_13\">\n    <path clip-path=\"url(#pda71cbb39e)\" d=\"M 185.538179 224.64 \nL 188.292601 224.64 \nL 188.292601 207.492775 \nL 185.538179 207.492775 \nz\n\" style=\"fill:#ff7f0e;\"/>\n   </g>\n   <g id=\"patch_14\">\n    <path clip-path=\"url(#pda71cbb39e)\" d=\"M 230.297537 224.64 \nL 233.051959 224.64 \nL 233.051959 224.64 \nL 230.297537 224.64 \nz\n\" style=\"fill:#ff7f0e;\"/>\n   </g>\n   <g id=\"patch_15\">\n    <path clip-path=\"url(#pda71cbb39e)\" d=\"M 275.056895 224.64 \nL 277.811317 224.64 \nL 277.811317 224.64 \nL 275.056895 224.64 \nz\n\" style=\"fill:#ff7f0e;\"/>\n   </g>\n   <g id=\"patch_16\">\n    <path clip-path=\"url(#pda71cbb39e)\" d=\"M 319.816254 224.64 \nL 322.570676 224.64 \nL 322.570676 224.64 \nL 319.816254 224.64 \nz\n\" style=\"fill:#ff7f0e;\"/>\n   </g>\n   <g id=\"patch_17\">\n    <path clip-path=\"url(#pda71cbb39e)\" d=\"M 54.014526 224.64 \nL 56.768948 224.64 \nL 56.768948 224.64 \nL 54.014526 224.64 \nz\n\" style=\"fill:#2ca02c;\"/>\n   </g>\n   <g id=\"patch_18\">\n    <path clip-path=\"url(#pda71cbb39e)\" d=\"M 98.773884 224.64 \nL 101.528306 224.64 \nL 101.528306 95.376306 \nL 98.773884 95.376306 \nz\n\" style=\"fill:#2ca02c;\"/>\n   </g>\n   <g id=\"patch_19\">\n    <path clip-path=\"url(#pda71cbb39e)\" d=\"M 143.533242 224.64 \nL 146.287665 224.64 \nL 146.287665 136.705514 \nL 143.533242 136.705514 \nz\n\" style=\"fill:#2ca02c;\"/>\n   </g>\n   <g id=\"patch_20\">\n    <path clip-path=\"url(#pda71cbb39e)\" d=\"M 188.292601 224.64 \nL 191.047023 224.64 \nL 191.047023 219.363931 \nL 188.292601 219.363931 \nz\n\" style=\"fill:#2ca02c;\"/>\n   </g>\n   <g id=\"patch_21\">\n    <path clip-path=\"url(#pda71cbb39e)\" d=\"M 233.051959 224.64 \nL 235.806381 224.64 \nL 235.806381 224.64 \nL 233.051959 224.64 \nz\n\" style=\"fill:#2ca02c;\"/>\n   </g>\n   <g id=\"patch_22\">\n    <path clip-path=\"url(#pda71cbb39e)\" d=\"M 277.811317 224.64 \nL 280.565739 224.64 \nL 280.565739 224.64 \nL 277.811317 224.64 \nz\n\" style=\"fill:#2ca02c;\"/>\n   </g>\n   <g id=\"patch_23\">\n    <path clip-path=\"url(#pda71cbb39e)\" d=\"M 322.570676 224.64 \nL 325.325098 224.64 \nL 325.325098 224.64 \nL 322.570676 224.64 \nz\n\" style=\"fill:#2ca02c;\"/>\n   </g>\n   <g id=\"patch_24\">\n    <path clip-path=\"url(#pda71cbb39e)\" d=\"M 56.768948 224.64 \nL 59.52337 224.64 \nL 59.52337 224.64 \nL 56.768948 224.64 \nz\n\" style=\"fill:#d62728;\"/>\n   </g>\n   <g id=\"patch_25\">\n    <path clip-path=\"url(#pda71cbb39e)\" d=\"M 101.528306 224.64 \nL 104.282728 224.64 \nL 104.282728 17.554286 \nL 101.528306 17.554286 \nz\n\" style=\"fill:#d62728;\"/>\n   </g>\n   <g id=\"patch_26\">\n    <path clip-path=\"url(#pda71cbb39e)\" d=\"M 146.287665 224.64 \nL 149.042087 224.64 \nL 149.042087 224.64 \nL 146.287665 224.64 \nz\n\" style=\"fill:#d62728;\"/>\n   </g>\n   <g id=\"patch_27\">\n    <path clip-path=\"url(#pda71cbb39e)\" d=\"M 191.047023 224.64 \nL 193.801445 224.64 \nL 193.801445 209.251465 \nL 191.047023 209.251465 \nz\n\" style=\"fill:#d62728;\"/>\n   </g>\n   <g id=\"patch_28\">\n    <path clip-path=\"url(#pda71cbb39e)\" d=\"M 235.806381 224.64 \nL 238.560803 224.64 \nL 238.560803 224.64 \nL 235.806381 224.64 \nz\n\" style=\"fill:#d62728;\"/>\n   </g>\n   <g id=\"patch_29\">\n    <path clip-path=\"url(#pda71cbb39e)\" d=\"M 280.565739 224.64 \nL 283.320161 224.64 \nL 283.320161 224.64 \nL 280.565739 224.64 \nz\n\" style=\"fill:#d62728;\"/>\n   </g>\n   <g id=\"patch_30\">\n    <path clip-path=\"url(#pda71cbb39e)\" d=\"M 325.325098 224.64 \nL 328.07952 224.64 \nL 328.07952 224.64 \nL 325.325098 224.64 \nz\n\" style=\"fill:#d62728;\"/>\n   </g>\n   <g id=\"patch_31\">\n    <path clip-path=\"url(#pda71cbb39e)\" d=\"M 59.52337 224.64 \nL 62.277792 224.64 \nL 62.277792 224.64 \nL 59.52337 224.64 \nz\n\" style=\"fill:#9467bd;\"/>\n   </g>\n   <g id=\"patch_32\">\n    <path clip-path=\"url(#pda71cbb39e)\" d=\"M 104.282728 224.64 \nL 107.03715 224.64 \nL 107.03715 94.057288 \nL 104.282728 94.057288 \nz\n\" style=\"fill:#9467bd;\"/>\n   </g>\n   <g id=\"patch_33\">\n    <path clip-path=\"url(#pda71cbb39e)\" d=\"M 149.042087 224.64 \nL 151.796509 224.64 \nL 151.796509 139.783221 \nL 149.042087 139.783221 \nz\n\" style=\"fill:#9467bd;\"/>\n   </g>\n   <g id=\"patch_34\">\n    <path clip-path=\"url(#pda71cbb39e)\" d=\"M 193.801445 224.64 \nL 196.555867 224.64 \nL 196.555867 217.605241 \nL 193.801445 217.605241 \nz\n\" style=\"fill:#9467bd;\"/>\n   </g>\n   <g id=\"patch_35\">\n    <path clip-path=\"url(#pda71cbb39e)\" d=\"M 238.560803 224.64 \nL 241.315225 224.64 \nL 241.315225 224.64 \nL 238.560803 224.64 \nz\n\" style=\"fill:#9467bd;\"/>\n   </g>\n   <g id=\"patch_36\">\n    <path clip-path=\"url(#pda71cbb39e)\" d=\"M 283.320161 224.64 \nL 286.074584 224.64 \nL 286.074584 224.64 \nL 283.320161 224.64 \nz\n\" style=\"fill:#9467bd;\"/>\n   </g>\n   <g id=\"patch_37\">\n    <path clip-path=\"url(#pda71cbb39e)\" d=\"M 328.07952 224.64 \nL 330.833942 224.64 \nL 330.833942 224.64 \nL 328.07952 224.64 \nz\n\" style=\"fill:#9467bd;\"/>\n   </g>\n   <g id=\"patch_38\">\n    <path clip-path=\"url(#pda71cbb39e)\" d=\"M 62.277792 224.64 \nL 65.032214 224.64 \nL 65.032214 219.363931 \nL 62.277792 219.363931 \nz\n\" style=\"fill:#8c564b;\"/>\n   </g>\n   <g id=\"patch_39\">\n    <path clip-path=\"url(#pda71cbb39e)\" d=\"M 107.03715 224.64 \nL 109.791572 224.64 \nL 109.791572 102.411065 \nL 107.03715 102.411065 \nz\n\" style=\"fill:#8c564b;\"/>\n   </g>\n   <g id=\"patch_40\">\n    <path clip-path=\"url(#pda71cbb39e)\" d=\"M 151.796509 224.64 \nL 154.550931 224.64 \nL 154.550931 139.343549 \nL 151.796509 139.343549 \nz\n\" style=\"fill:#8c564b;\"/>\n   </g>\n   <g id=\"patch_41\">\n    <path clip-path=\"url(#pda71cbb39e)\" d=\"M 196.555867 224.64 \nL 199.310289 224.64 \nL 199.310289 214.967207 \nL 196.555867 214.967207 \nz\n\" style=\"fill:#8c564b;\"/>\n   </g>\n   <g id=\"patch_42\">\n    <path clip-path=\"url(#pda71cbb39e)\" d=\"M 241.315225 224.64 \nL 244.069647 224.64 \nL 244.069647 224.64 \nL 241.315225 224.64 \nz\n\" style=\"fill:#8c564b;\"/>\n   </g>\n   <g id=\"patch_43\">\n    <path clip-path=\"url(#pda71cbb39e)\" d=\"M 286.074584 224.64 \nL 288.829006 224.64 \nL 288.829006 224.64 \nL 286.074584 224.64 \nz\n\" style=\"fill:#8c564b;\"/>\n   </g>\n   <g id=\"patch_44\">\n    <path clip-path=\"url(#pda71cbb39e)\" d=\"M 330.833942 224.64 \nL 333.588364 224.64 \nL 333.588364 224.64 \nL 330.833942 224.64 \nz\n\" style=\"fill:#8c564b;\"/>\n   </g>\n   <g id=\"patch_45\">\n    <path clip-path=\"url(#pda71cbb39e)\" d=\"M 65.032214 224.64 \nL 67.786636 224.64 \nL 67.786636 217.605241 \nL 65.032214 217.605241 \nz\n\" style=\"fill:#e377c2;\"/>\n   </g>\n   <g id=\"patch_46\">\n    <path clip-path=\"url(#pda71cbb39e)\" d=\"M 109.791572 224.64 \nL 112.545994 224.64 \nL 112.545994 135.386497 \nL 109.791572 135.386497 \nz\n\" style=\"fill:#e377c2;\"/>\n   </g>\n   <g id=\"patch_47\">\n    <path clip-path=\"url(#pda71cbb39e)\" d=\"M 154.550931 224.64 \nL 157.305353 224.64 \nL 157.305353 98.454013 \nL 154.550931 98.454013 \nz\n\" style=\"fill:#e377c2;\"/>\n   </g>\n   <g id=\"patch_48\">\n    <path clip-path=\"url(#pda71cbb39e)\" d=\"M 199.310289 224.64 \nL 202.064711 224.64 \nL 202.064711 224.64 \nL 199.310289 224.64 \nz\n\" style=\"fill:#e377c2;\"/>\n   </g>\n   <g id=\"patch_49\">\n    <path clip-path=\"url(#pda71cbb39e)\" d=\"M 244.069647 224.64 \nL 246.824069 224.64 \nL 246.824069 224.64 \nL 244.069647 224.64 \nz\n\" style=\"fill:#e377c2;\"/>\n   </g>\n   <g id=\"patch_50\">\n    <path clip-path=\"url(#pda71cbb39e)\" d=\"M 288.829006 224.64 \nL 291.583428 224.64 \nL 291.583428 224.64 \nL 288.829006 224.64 \nz\n\" style=\"fill:#e377c2;\"/>\n   </g>\n   <g id=\"patch_51\">\n    <path clip-path=\"url(#pda71cbb39e)\" d=\"M 333.588364 224.64 \nL 336.342786 224.64 \nL 336.342786 224.64 \nL 333.588364 224.64 \nz\n\" style=\"fill:#e377c2;\"/>\n   </g>\n   <g id=\"patch_52\">\n    <path clip-path=\"url(#pda71cbb39e)\" d=\"M 67.786636 224.64 \nL 70.541058 224.64 \nL 70.541058 224.64 \nL 67.786636 224.64 \nz\n\" style=\"fill:#7f7f7f;\"/>\n   </g>\n   <g id=\"patch_53\">\n    <path clip-path=\"url(#pda71cbb39e)\" d=\"M 112.545994 224.64 \nL 115.300416 224.64 \nL 115.300416 90.539909 \nL 112.545994 90.539909 \nz\n\" style=\"fill:#7f7f7f;\"/>\n   </g>\n   <g id=\"patch_54\">\n    <path clip-path=\"url(#pda71cbb39e)\" d=\"M 157.305353 224.64 \nL 160.059775 224.64 \nL 160.059775 145.05929 \nL 157.305353 145.05929 \nz\n\" style=\"fill:#7f7f7f;\"/>\n   </g>\n   <g id=\"patch_55\">\n    <path clip-path=\"url(#pda71cbb39e)\" d=\"M 202.064711 224.64 \nL 204.819133 224.64 \nL 204.819133 215.846551 \nL 202.064711 215.846551 \nz\n\" style=\"fill:#7f7f7f;\"/>\n   </g>\n   <g id=\"patch_56\">\n    <path clip-path=\"url(#pda71cbb39e)\" d=\"M 246.824069 224.64 \nL 249.578491 224.64 \nL 249.578491 224.64 \nL 246.824069 224.64 \nz\n\" style=\"fill:#7f7f7f;\"/>\n   </g>\n   <g id=\"patch_57\">\n    <path clip-path=\"url(#pda71cbb39e)\" d=\"M 291.583428 224.64 \nL 294.33785 224.64 \nL 294.33785 224.64 \nL 291.583428 224.64 \nz\n\" style=\"fill:#7f7f7f;\"/>\n   </g>\n   <g id=\"patch_58\">\n    <path clip-path=\"url(#pda71cbb39e)\" d=\"M 336.342786 224.64 \nL 339.097208 224.64 \nL 339.097208 224.64 \nL 336.342786 224.64 \nz\n\" style=\"fill:#7f7f7f;\"/>\n   </g>\n   <g id=\"patch_59\">\n    <path clip-path=\"url(#pda71cbb39e)\" d=\"M 70.541058 224.64 \nL 73.29548 224.64 \nL 73.29548 224.64 \nL 70.541058 224.64 \nz\n\" style=\"fill:#bcbd22;\"/>\n   </g>\n   <g id=\"patch_60\">\n    <path clip-path=\"url(#pda71cbb39e)\" d=\"M 115.300416 224.64 \nL 118.054839 224.64 \nL 118.054839 60.202511 \nL 115.300416 60.202511 \nz\n\" style=\"fill:#bcbd22;\"/>\n   </g>\n   <g id=\"patch_61\">\n    <path clip-path=\"url(#pda71cbb39e)\" d=\"M 160.059775 224.64 \nL 162.814197 224.64 \nL 162.814197 166.603239 \nL 160.059775 166.603239 \nz\n\" style=\"fill:#bcbd22;\"/>\n   </g>\n   <g id=\"patch_62\">\n    <path clip-path=\"url(#pda71cbb39e)\" d=\"M 204.819133 224.64 \nL 207.573555 224.64 \nL 207.573555 224.64 \nL 204.819133 224.64 \nz\n\" style=\"fill:#bcbd22;\"/>\n   </g>\n   <g id=\"patch_63\">\n    <path clip-path=\"url(#pda71cbb39e)\" d=\"M 249.578491 224.64 \nL 252.332913 224.64 \nL 252.332913 224.64 \nL 249.578491 224.64 \nz\n\" style=\"fill:#bcbd22;\"/>\n   </g>\n   <g id=\"patch_64\">\n    <path clip-path=\"url(#pda71cbb39e)\" d=\"M 294.33785 224.64 \nL 297.092272 224.64 \nL 297.092272 224.64 \nL 294.33785 224.64 \nz\n\" style=\"fill:#bcbd22;\"/>\n   </g>\n   <g id=\"patch_65\">\n    <path clip-path=\"url(#pda71cbb39e)\" d=\"M 339.097208 224.64 \nL 341.85163 224.64 \nL 341.85163 224.64 \nL 339.097208 224.64 \nz\n\" style=\"fill:#bcbd22;\"/>\n   </g>\n   <g id=\"patch_66\">\n    <path clip-path=\"url(#pda71cbb39e)\" d=\"M 73.29548 224.64 \nL 76.049902 224.64 \nL 76.049902 224.64 \nL 73.29548 224.64 \nz\n\" style=\"fill:#17becf;\"/>\n   </g>\n   <g id=\"patch_67\">\n    <path clip-path=\"url(#pda71cbb39e)\" d=\"M 118.054839 224.64 \nL 120.809261 224.64 \nL 120.809261 75.151374 \nL 118.054839 75.151374 \nz\n\" style=\"fill:#17becf;\"/>\n   </g>\n   <g id=\"patch_68\">\n    <path clip-path=\"url(#pda71cbb39e)\" d=\"M 162.814197 224.64 \nL 165.568619 224.64 \nL 165.568619 151.654377 \nL 162.814197 151.654377 \nz\n\" style=\"fill:#17becf;\"/>\n   </g>\n   <g id=\"patch_69\">\n    <path clip-path=\"url(#pda71cbb39e)\" d=\"M 207.573555 224.64 \nL 210.327977 224.64 \nL 210.327977 224.64 \nL 207.573555 224.64 \nz\n\" style=\"fill:#17becf;\"/>\n   </g>\n   <g id=\"patch_70\">\n    <path clip-path=\"url(#pda71cbb39e)\" d=\"M 252.332913 224.64 \nL 255.087335 224.64 \nL 255.087335 224.64 \nL 252.332913 224.64 \nz\n\" style=\"fill:#17becf;\"/>\n   </g>\n   <g id=\"patch_71\">\n    <path clip-path=\"url(#pda71cbb39e)\" d=\"M 297.092272 224.64 \nL 299.846694 224.64 \nL 299.846694 224.64 \nL 297.092272 224.64 \nz\n\" style=\"fill:#17becf;\"/>\n   </g>\n   <g id=\"patch_72\">\n    <path clip-path=\"url(#pda71cbb39e)\" d=\"M 341.85163 224.64 \nL 344.606052 224.64 \nL 344.606052 224.64 \nL 341.85163 224.64 \nz\n\" style=\"fill:#17becf;\"/>\n   </g>\n   <g id=\"patch_73\">\n    <path clip-path=\"url(#pda71cbb39e)\" d=\"M 76.049902 224.64 \nL 78.804324 224.64 \nL 78.804324 217.605241 \nL 76.049902 217.605241 \nz\n\" style=\"fill:#1f77b4;\"/>\n   </g>\n   <g id=\"patch_74\">\n    <path clip-path=\"url(#pda71cbb39e)\" d=\"M 120.809261 224.64 \nL 123.563683 224.64 \nL 123.563683 135.826169 \nL 120.809261 135.826169 \nz\n\" style=\"fill:#1f77b4;\"/>\n   </g>\n   <g id=\"patch_75\">\n    <path clip-path=\"url(#pda71cbb39e)\" d=\"M 165.568619 224.64 \nL 168.323041 224.64 \nL 168.323041 98.01434 \nL 165.568619 98.01434 \nz\n\" style=\"fill:#1f77b4;\"/>\n   </g>\n   <g id=\"patch_76\">\n    <path clip-path=\"url(#pda71cbb39e)\" d=\"M 210.327977 224.64 \nL 213.082399 224.64 \nL 213.082399 224.64 \nL 210.327977 224.64 \nz\n\" style=\"fill:#1f77b4;\"/>\n   </g>\n   <g id=\"patch_77\">\n    <path clip-path=\"url(#pda71cbb39e)\" d=\"M 255.087335 224.64 \nL 257.841758 224.64 \nL 257.841758 224.64 \nL 255.087335 224.64 \nz\n\" style=\"fill:#1f77b4;\"/>\n   </g>\n   <g id=\"patch_78\">\n    <path clip-path=\"url(#pda71cbb39e)\" d=\"M 299.846694 224.64 \nL 302.601116 224.64 \nL 302.601116 224.64 \nL 299.846694 224.64 \nz\n\" style=\"fill:#1f77b4;\"/>\n   </g>\n   <g id=\"patch_79\">\n    <path clip-path=\"url(#pda71cbb39e)\" d=\"M 344.606052 224.64 \nL 347.360474 224.64 \nL 347.360474 224.64 \nL 344.606052 224.64 \nz\n\" style=\"fill:#1f77b4;\"/>\n   </g>\n   <g id=\"patch_80\">\n    <path clip-path=\"url(#pda71cbb39e)\" d=\"M 78.804324 224.64 \nL 81.558746 224.64 \nL 81.558746 207.492775 \nL 78.804324 207.492775 \nz\n\" style=\"fill:#ff7f0e;\"/>\n   </g>\n   <g id=\"patch_81\">\n    <path clip-path=\"url(#pda71cbb39e)\" d=\"M 123.563683 224.64 \nL 126.318105 224.64 \nL 126.318105 198.699327 \nL 123.563683 198.699327 \nz\n\" style=\"fill:#ff7f0e;\"/>\n   </g>\n   <g id=\"patch_82\">\n    <path clip-path=\"url(#pda71cbb39e)\" d=\"M 168.323041 224.64 \nL 171.077463 224.64 \nL 171.077463 45.253649 \nL 168.323041 45.253649 \nz\n\" style=\"fill:#ff7f0e;\"/>\n   </g>\n   <g id=\"patch_83\">\n    <path clip-path=\"url(#pda71cbb39e)\" d=\"M 213.082399 224.64 \nL 215.836821 224.64 \nL 215.836821 224.64 \nL 213.082399 224.64 \nz\n\" style=\"fill:#ff7f0e;\"/>\n   </g>\n   <g id=\"patch_84\">\n    <path clip-path=\"url(#pda71cbb39e)\" d=\"M 257.841758 224.64 \nL 260.59618 224.64 \nL 260.59618 224.64 \nL 257.841758 224.64 \nz\n\" style=\"fill:#ff7f0e;\"/>\n   </g>\n   <g id=\"patch_85\">\n    <path clip-path=\"url(#pda71cbb39e)\" d=\"M 302.601116 224.64 \nL 305.355538 224.64 \nL 305.355538 224.64 \nL 302.601116 224.64 \nz\n\" style=\"fill:#ff7f0e;\"/>\n   </g>\n   <g id=\"patch_86\">\n    <path clip-path=\"url(#pda71cbb39e)\" d=\"M 347.360474 224.64 \nL 350.114896 224.64 \nL 350.114896 224.64 \nL 347.360474 224.64 \nz\n\" style=\"fill:#ff7f0e;\"/>\n   </g>\n   <g id=\"patch_87\">\n    <path clip-path=\"url(#pda71cbb39e)\" d=\"M 81.558746 224.64 \nL 84.313168 224.64 \nL 84.313168 224.64 \nL 81.558746 224.64 \nz\n\" style=\"fill:#2ca02c;\"/>\n   </g>\n   <g id=\"patch_88\">\n    <path clip-path=\"url(#pda71cbb39e)\" d=\"M 126.318105 224.64 \nL 129.072527 224.64 \nL 129.072527 96.255651 \nL 126.318105 96.255651 \nz\n\" style=\"fill:#2ca02c;\"/>\n   </g>\n   <g id=\"patch_89\">\n    <path clip-path=\"url(#pda71cbb39e)\" d=\"M 171.077463 224.64 \nL 173.831885 224.64 \nL 173.831885 141.541911 \nL 171.077463 141.541911 \nz\n\" style=\"fill:#2ca02c;\"/>\n   </g>\n   <g id=\"patch_90\">\n    <path clip-path=\"url(#pda71cbb39e)\" d=\"M 215.836821 224.64 \nL 218.591243 224.64 \nL 218.591243 213.648189 \nL 215.836821 213.648189 \nz\n\" style=\"fill:#2ca02c;\"/>\n   </g>\n   <g id=\"patch_91\">\n    <path clip-path=\"url(#pda71cbb39e)\" d=\"M 260.59618 224.64 \nL 263.350602 224.64 \nL 263.350602 224.64 \nL 260.59618 224.64 \nz\n\" style=\"fill:#2ca02c;\"/>\n   </g>\n   <g id=\"patch_92\">\n    <path clip-path=\"url(#pda71cbb39e)\" d=\"M 305.355538 224.64 \nL 308.10996 224.64 \nL 308.10996 224.64 \nL 305.355538 224.64 \nz\n\" style=\"fill:#2ca02c;\"/>\n   </g>\n   <g id=\"patch_93\">\n    <path clip-path=\"url(#pda71cbb39e)\" d=\"M 350.114896 224.64 \nL 352.869318 224.64 \nL 352.869318 224.64 \nL 350.114896 224.64 \nz\n\" style=\"fill:#2ca02c;\"/>\n   </g>\n   <g id=\"matplotlib.axis_1\">\n    <g id=\"xtick_1\">\n     <g id=\"line2d_1\">\n      <defs>\n       <path d=\"M 0 0 \nL 0 3.5 \n\" id=\"m871d46e396\" style=\"stroke:#000000;stroke-width:0.8;\"/>\n      </defs>\n      <g>\n       <use style=\"stroke:#000000;stroke-width:0.8;\" x=\"41.928921\" xlink:href=\"#m871d46e396\" y=\"224.64\"/>\n      </g>\n     </g>\n     <g id=\"text_1\">\n      <!-- −4 -->\n      <g transform=\"translate(34.557827 239.238438)scale(0.1 -0.1)\">\n       <defs>\n        <path d=\"M 10.59375 35.5 \nL 73.1875 35.5 \nL 73.1875 27.203125 \nL 10.59375 27.203125 \nz\n\" id=\"DejaVuSans-8722\"/>\n        <path d=\"M 37.796875 64.3125 \nL 12.890625 25.390625 \nL 37.796875 25.390625 \nz\nM 35.203125 72.90625 \nL 47.609375 72.90625 \nL 47.609375 25.390625 \nL 58.015625 25.390625 \nL 58.015625 17.1875 \nL 47.609375 17.1875 \nL 47.609375 0 \nL 37.796875 0 \nL 37.796875 17.1875 \nL 4.890625 17.1875 \nL 4.890625 26.703125 \nz\n\" id=\"DejaVuSans-52\"/>\n       </defs>\n       <use xlink:href=\"#DejaVuSans-8722\"/>\n       <use x=\"83.789062\" xlink:href=\"#DejaVuSans-52\"/>\n      </g>\n     </g>\n    </g>\n    <g id=\"xtick_2\">\n     <g id=\"line2d_2\">\n      <g>\n       <use style=\"stroke:#000000;stroke-width:0.8;\" x=\"87.202052\" xlink:href=\"#m871d46e396\" y=\"224.64\"/>\n      </g>\n     </g>\n     <g id=\"text_2\">\n      <!-- −2 -->\n      <g transform=\"translate(79.830958 239.238438)scale(0.1 -0.1)\">\n       <defs>\n        <path d=\"M 19.1875 8.296875 \nL 53.609375 8.296875 \nL 53.609375 0 \nL 7.328125 0 \nL 7.328125 8.296875 \nQ 12.9375 14.109375 22.625 23.890625 \nQ 32.328125 33.6875 34.8125 36.53125 \nQ 39.546875 41.84375 41.421875 45.53125 \nQ 43.3125 49.21875 43.3125 52.78125 \nQ 43.3125 58.59375 39.234375 62.25 \nQ 35.15625 65.921875 28.609375 65.921875 \nQ 23.96875 65.921875 18.8125 64.3125 \nQ 13.671875 62.703125 7.8125 59.421875 \nL 7.8125 69.390625 \nQ 13.765625 71.78125 18.9375 73 \nQ 24.125 74.21875 28.421875 74.21875 \nQ 39.75 74.21875 46.484375 68.546875 \nQ 53.21875 62.890625 53.21875 53.421875 \nQ 53.21875 48.921875 51.53125 44.890625 \nQ 49.859375 40.875 45.40625 35.40625 \nQ 44.1875 33.984375 37.640625 27.21875 \nQ 31.109375 20.453125 19.1875 8.296875 \nz\n\" id=\"DejaVuSans-50\"/>\n       </defs>\n       <use xlink:href=\"#DejaVuSans-8722\"/>\n       <use x=\"83.789062\" xlink:href=\"#DejaVuSans-50\"/>\n      </g>\n     </g>\n    </g>\n    <g id=\"xtick_3\">\n     <g id=\"line2d_3\">\n      <g>\n       <use style=\"stroke:#000000;stroke-width:0.8;\" x=\"132.475183\" xlink:href=\"#m871d46e396\" y=\"224.64\"/>\n      </g>\n     </g>\n     <g id=\"text_3\">\n      <!-- 0 -->\n      <g transform=\"translate(129.293933 239.238438)scale(0.1 -0.1)\">\n       <defs>\n        <path d=\"M 31.78125 66.40625 \nQ 24.171875 66.40625 20.328125 58.90625 \nQ 16.5 51.421875 16.5 36.375 \nQ 16.5 21.390625 20.328125 13.890625 \nQ 24.171875 6.390625 31.78125 6.390625 \nQ 39.453125 6.390625 43.28125 13.890625 \nQ 47.125 21.390625 47.125 36.375 \nQ 47.125 51.421875 43.28125 58.90625 \nQ 39.453125 66.40625 31.78125 66.40625 \nz\nM 31.78125 74.21875 \nQ 44.046875 74.21875 50.515625 64.515625 \nQ 56.984375 54.828125 56.984375 36.375 \nQ 56.984375 17.96875 50.515625 8.265625 \nQ 44.046875 -1.421875 31.78125 -1.421875 \nQ 19.53125 -1.421875 13.0625 8.265625 \nQ 6.59375 17.96875 6.59375 36.375 \nQ 6.59375 54.828125 13.0625 64.515625 \nQ 19.53125 74.21875 31.78125 74.21875 \nz\n\" id=\"DejaVuSans-48\"/>\n       </defs>\n       <use xlink:href=\"#DejaVuSans-48\"/>\n      </g>\n     </g>\n    </g>\n    <g id=\"xtick_4\">\n     <g id=\"line2d_4\">\n      <g>\n       <use style=\"stroke:#000000;stroke-width:0.8;\" x=\"177.748314\" xlink:href=\"#m871d46e396\" y=\"224.64\"/>\n      </g>\n     </g>\n     <g id=\"text_4\">\n      <!-- 2 -->\n      <g transform=\"translate(174.567064 239.238438)scale(0.1 -0.1)\">\n       <use xlink:href=\"#DejaVuSans-50\"/>\n      </g>\n     </g>\n    </g>\n    <g id=\"xtick_5\">\n     <g id=\"line2d_5\">\n      <g>\n       <use style=\"stroke:#000000;stroke-width:0.8;\" x=\"223.021445\" xlink:href=\"#m871d46e396\" y=\"224.64\"/>\n      </g>\n     </g>\n     <g id=\"text_5\">\n      <!-- 4 -->\n      <g transform=\"translate(219.840195 239.238438)scale(0.1 -0.1)\">\n       <use xlink:href=\"#DejaVuSans-52\"/>\n      </g>\n     </g>\n    </g>\n    <g id=\"xtick_6\">\n     <g id=\"line2d_6\">\n      <g>\n       <use style=\"stroke:#000000;stroke-width:0.8;\" x=\"268.294576\" xlink:href=\"#m871d46e396\" y=\"224.64\"/>\n      </g>\n     </g>\n     <g id=\"text_6\">\n      <!-- 6 -->\n      <g transform=\"translate(265.113326 239.238438)scale(0.1 -0.1)\">\n       <defs>\n        <path d=\"M 33.015625 40.375 \nQ 26.375 40.375 22.484375 35.828125 \nQ 18.609375 31.296875 18.609375 23.390625 \nQ 18.609375 15.53125 22.484375 10.953125 \nQ 26.375 6.390625 33.015625 6.390625 \nQ 39.65625 6.390625 43.53125 10.953125 \nQ 47.40625 15.53125 47.40625 23.390625 \nQ 47.40625 31.296875 43.53125 35.828125 \nQ 39.65625 40.375 33.015625 40.375 \nz\nM 52.59375 71.296875 \nL 52.59375 62.3125 \nQ 48.875 64.0625 45.09375 64.984375 \nQ 41.3125 65.921875 37.59375 65.921875 \nQ 27.828125 65.921875 22.671875 59.328125 \nQ 17.53125 52.734375 16.796875 39.40625 \nQ 19.671875 43.65625 24.015625 45.921875 \nQ 28.375 48.1875 33.59375 48.1875 \nQ 44.578125 48.1875 50.953125 41.515625 \nQ 57.328125 34.859375 57.328125 23.390625 \nQ 57.328125 12.15625 50.6875 5.359375 \nQ 44.046875 -1.421875 33.015625 -1.421875 \nQ 20.359375 -1.421875 13.671875 8.265625 \nQ 6.984375 17.96875 6.984375 36.375 \nQ 6.984375 53.65625 15.1875 63.9375 \nQ 23.390625 74.21875 37.203125 74.21875 \nQ 40.921875 74.21875 44.703125 73.484375 \nQ 48.484375 72.75 52.59375 71.296875 \nz\n\" id=\"DejaVuSans-54\"/>\n       </defs>\n       <use xlink:href=\"#DejaVuSans-54\"/>\n      </g>\n     </g>\n    </g>\n    <g id=\"xtick_7\">\n     <g id=\"line2d_7\">\n      <g>\n       <use style=\"stroke:#000000;stroke-width:0.8;\" x=\"313.567707\" xlink:href=\"#m871d46e396\" y=\"224.64\"/>\n      </g>\n     </g>\n     <g id=\"text_7\">\n      <!-- 8 -->\n      <g transform=\"translate(310.386457 239.238438)scale(0.1 -0.1)\">\n       <defs>\n        <path d=\"M 31.78125 34.625 \nQ 24.75 34.625 20.71875 30.859375 \nQ 16.703125 27.09375 16.703125 20.515625 \nQ 16.703125 13.921875 20.71875 10.15625 \nQ 24.75 6.390625 31.78125 6.390625 \nQ 38.8125 6.390625 42.859375 10.171875 \nQ 46.921875 13.96875 46.921875 20.515625 \nQ 46.921875 27.09375 42.890625 30.859375 \nQ 38.875 34.625 31.78125 34.625 \nz\nM 21.921875 38.8125 \nQ 15.578125 40.375 12.03125 44.71875 \nQ 8.5 49.078125 8.5 55.328125 \nQ 8.5 64.0625 14.71875 69.140625 \nQ 20.953125 74.21875 31.78125 74.21875 \nQ 42.671875 74.21875 48.875 69.140625 \nQ 55.078125 64.0625 55.078125 55.328125 \nQ 55.078125 49.078125 51.53125 44.71875 \nQ 48 40.375 41.703125 38.8125 \nQ 48.828125 37.15625 52.796875 32.3125 \nQ 56.78125 27.484375 56.78125 20.515625 \nQ 56.78125 9.90625 50.3125 4.234375 \nQ 43.84375 -1.421875 31.78125 -1.421875 \nQ 19.734375 -1.421875 13.25 4.234375 \nQ 6.78125 9.90625 6.78125 20.515625 \nQ 6.78125 27.484375 10.78125 32.3125 \nQ 14.796875 37.15625 21.921875 38.8125 \nz\nM 18.3125 54.390625 \nQ 18.3125 48.734375 21.84375 45.5625 \nQ 25.390625 42.390625 31.78125 42.390625 \nQ 38.140625 42.390625 41.71875 45.5625 \nQ 45.3125 48.734375 45.3125 54.390625 \nQ 45.3125 60.0625 41.71875 63.234375 \nQ 38.140625 66.40625 31.78125 66.40625 \nQ 25.390625 66.40625 21.84375 63.234375 \nQ 18.3125 60.0625 18.3125 54.390625 \nz\n\" id=\"DejaVuSans-56\"/>\n       </defs>\n       <use xlink:href=\"#DejaVuSans-56\"/>\n      </g>\n     </g>\n    </g>\n    <g id=\"xtick_8\">\n     <g id=\"line2d_8\">\n      <g>\n       <use style=\"stroke:#000000;stroke-width:0.8;\" x=\"358.840838\" xlink:href=\"#m871d46e396\" y=\"224.64\"/>\n      </g>\n     </g>\n     <g id=\"text_8\">\n      <!-- 10 -->\n      <g transform=\"translate(352.478338 239.238438)scale(0.1 -0.1)\">\n       <defs>\n        <path d=\"M 12.40625 8.296875 \nL 28.515625 8.296875 \nL 28.515625 63.921875 \nL 10.984375 60.40625 \nL 10.984375 69.390625 \nL 28.421875 72.90625 \nL 38.28125 72.90625 \nL 38.28125 8.296875 \nL 54.390625 8.296875 \nL 54.390625 0 \nL 12.40625 0 \nz\n\" id=\"DejaVuSans-49\"/>\n       </defs>\n       <use xlink:href=\"#DejaVuSans-49\"/>\n       <use x=\"63.623047\" xlink:href=\"#DejaVuSans-48\"/>\n      </g>\n     </g>\n    </g>\n   </g>\n   <g id=\"matplotlib.axis_2\">\n    <g id=\"ytick_1\">\n     <g id=\"line2d_9\">\n      <defs>\n       <path d=\"M 0 0 \nL -3.5 0 \n\" id=\"m553247d87e\" style=\"stroke:#000000;stroke-width:0.8;\"/>\n      </defs>\n      <g>\n       <use style=\"stroke:#000000;stroke-width:0.8;\" x=\"33.2875\" xlink:href=\"#m553247d87e\" y=\"224.64\"/>\n      </g>\n     </g>\n     <g id=\"text_9\">\n      <!-- 0 -->\n      <g transform=\"translate(19.925 228.439219)scale(0.1 -0.1)\">\n       <use xlink:href=\"#DejaVuSans-48\"/>\n      </g>\n     </g>\n    </g>\n    <g id=\"ytick_2\">\n     <g id=\"line2d_10\">\n      <g>\n       <use style=\"stroke:#000000;stroke-width:0.8;\" x=\"33.2875\" xlink:href=\"#m553247d87e\" y=\"180.672757\"/>\n      </g>\n     </g>\n     <g id=\"text_10\">\n      <!-- 100 -->\n      <g transform=\"translate(7.2 184.471976)scale(0.1 -0.1)\">\n       <use xlink:href=\"#DejaVuSans-49\"/>\n       <use x=\"63.623047\" xlink:href=\"#DejaVuSans-48\"/>\n       <use x=\"127.246094\" xlink:href=\"#DejaVuSans-48\"/>\n      </g>\n     </g>\n    </g>\n    <g id=\"ytick_3\">\n     <g id=\"line2d_11\">\n      <g>\n       <use style=\"stroke:#000000;stroke-width:0.8;\" x=\"33.2875\" xlink:href=\"#m553247d87e\" y=\"136.705514\"/>\n      </g>\n     </g>\n     <g id=\"text_11\">\n      <!-- 200 -->\n      <g transform=\"translate(7.2 140.504733)scale(0.1 -0.1)\">\n       <use xlink:href=\"#DejaVuSans-50\"/>\n       <use x=\"63.623047\" xlink:href=\"#DejaVuSans-48\"/>\n       <use x=\"127.246094\" xlink:href=\"#DejaVuSans-48\"/>\n      </g>\n     </g>\n    </g>\n    <g id=\"ytick_4\">\n     <g id=\"line2d_12\">\n      <g>\n       <use style=\"stroke:#000000;stroke-width:0.8;\" x=\"33.2875\" xlink:href=\"#m553247d87e\" y=\"92.738271\"/>\n      </g>\n     </g>\n     <g id=\"text_12\">\n      <!-- 300 -->\n      <g transform=\"translate(7.2 96.53749)scale(0.1 -0.1)\">\n       <defs>\n        <path d=\"M 40.578125 39.3125 \nQ 47.65625 37.796875 51.625 33 \nQ 55.609375 28.21875 55.609375 21.1875 \nQ 55.609375 10.40625 48.1875 4.484375 \nQ 40.765625 -1.421875 27.09375 -1.421875 \nQ 22.515625 -1.421875 17.65625 -0.515625 \nQ 12.796875 0.390625 7.625 2.203125 \nL 7.625 11.71875 \nQ 11.71875 9.328125 16.59375 8.109375 \nQ 21.484375 6.890625 26.8125 6.890625 \nQ 36.078125 6.890625 40.9375 10.546875 \nQ 45.796875 14.203125 45.796875 21.1875 \nQ 45.796875 27.640625 41.28125 31.265625 \nQ 36.765625 34.90625 28.71875 34.90625 \nL 20.21875 34.90625 \nL 20.21875 43.015625 \nL 29.109375 43.015625 \nQ 36.375 43.015625 40.234375 45.921875 \nQ 44.09375 48.828125 44.09375 54.296875 \nQ 44.09375 59.90625 40.109375 62.90625 \nQ 36.140625 65.921875 28.71875 65.921875 \nQ 24.65625 65.921875 20.015625 65.03125 \nQ 15.375 64.15625 9.8125 62.3125 \nL 9.8125 71.09375 \nQ 15.4375 72.65625 20.34375 73.4375 \nQ 25.25 74.21875 29.59375 74.21875 \nQ 40.828125 74.21875 47.359375 69.109375 \nQ 53.90625 64.015625 53.90625 55.328125 \nQ 53.90625 49.265625 50.4375 45.09375 \nQ 46.96875 40.921875 40.578125 39.3125 \nz\n\" id=\"DejaVuSans-51\"/>\n       </defs>\n       <use xlink:href=\"#DejaVuSans-51\"/>\n       <use x=\"63.623047\" xlink:href=\"#DejaVuSans-48\"/>\n       <use x=\"127.246094\" xlink:href=\"#DejaVuSans-48\"/>\n      </g>\n     </g>\n    </g>\n    <g id=\"ytick_5\">\n     <g id=\"line2d_13\">\n      <g>\n       <use style=\"stroke:#000000;stroke-width:0.8;\" x=\"33.2875\" xlink:href=\"#m553247d87e\" y=\"48.771028\"/>\n      </g>\n     </g>\n     <g id=\"text_13\">\n      <!-- 400 -->\n      <g transform=\"translate(7.2 52.570247)scale(0.1 -0.1)\">\n       <use xlink:href=\"#DejaVuSans-52\"/>\n       <use x=\"63.623047\" xlink:href=\"#DejaVuSans-48\"/>\n       <use x=\"127.246094\" xlink:href=\"#DejaVuSans-48\"/>\n      </g>\n     </g>\n    </g>\n   </g>\n   <g id=\"patch_94\">\n    <path d=\"M 33.2875 224.64 \nL 33.2875 7.2 \n\" style=\"fill:none;stroke:#000000;stroke-linecap:square;stroke-linejoin:miter;stroke-width:0.8;\"/>\n   </g>\n   <g id=\"patch_95\">\n    <path d=\"M 368.0875 224.64 \nL 368.0875 7.2 \n\" style=\"fill:none;stroke:#000000;stroke-linecap:square;stroke-linejoin:miter;stroke-width:0.8;\"/>\n   </g>\n   <g id=\"patch_96\">\n    <path d=\"M 33.2875 224.64 \nL 368.0875 224.64 \n\" style=\"fill:none;stroke:#000000;stroke-linecap:square;stroke-linejoin:miter;stroke-width:0.8;\"/>\n   </g>\n   <g id=\"patch_97\">\n    <path d=\"M 33.2875 7.2 \nL 368.0875 7.2 \n\" style=\"fill:none;stroke:#000000;stroke-linecap:square;stroke-linejoin:miter;stroke-width:0.8;\"/>\n   </g>\n  </g>\n </g>\n <defs>\n  <clipPath id=\"pda71cbb39e\">\n   <rect height=\"217.44\" width=\"334.8\" x=\"33.2875\" y=\"7.2\"/>\n  </clipPath>\n </defs>\n</svg>\n",
      "image/png": "[encoded data removed]"
     },
     "metadata": {
      "needs_background": "light"
     }
    }
   ],
   "source": [
    "plt.hist(norfeatures,bins=7)"
   ]
  },
  {
   "cell_type": "code",
   "execution_count": 60,
   "metadata": {},
   "outputs": [],
   "source": [
    "X_train, X_test, y_train, y_test = train_test_split(norfeatures, targets, test_size=0.33, random_state=42)"
   ]
  },
  {
   "cell_type": "code",
   "execution_count": 61,
   "metadata": {},
   "outputs": [],
   "source": [
    "from sklearn.ensemble import RandomForestRegressor\n",
    "model = RandomForestRegressor(random_state=20) \n"
   ]
  },
  {
   "cell_type": "code",
   "execution_count": 70,
   "metadata": {},
   "outputs": [],
   "source": [
    "grid_param = {\n",
    "    'criterion': ['mse', 'mae'],\n",
    "    'max_depth' : range(2,32,1),\n",
    "    'min_samples_leaf' : range(1,10,1),\n",
    "    'min_samples_split': range(2,10,1),\n",
    "}\n",
    "\n",
    "\n"
   ]
  },
  {
   "cell_type": "code",
   "execution_count": 71,
   "metadata": {},
   "outputs": [],
   "source": [
    "grid_search = GridSearchCV(estimator=model,\n",
    "                     param_grid=grid_param,\n",
    "                     cv=5,\n",
    "                    n_jobs =-1)"
   ]
  },
  {
   "cell_type": "code",
   "execution_count": 72,
   "metadata": {},
   "outputs": [
    {
     "output_type": "execute_result",
     "data": {
      "text/plain": [
       "GridSearchCV(cv=5, estimator=RandomForestRegressor(random_state=20), n_jobs=-1,\n",
       "             param_grid={'criterion': ['mse', 'mae'], 'max_depth': range(2, 32),\n",
       "                         'min_samples_leaf': range(1, 10),\n",
       "                         'min_samples_split': range(2, 10)})"
      ]
     },
     "metadata": {},
     "execution_count": 72
    }
   ],
   "source": [
    "grid_search.fit(X_train,y_train)"
   ]
  },
  {
   "cell_type": "code",
   "execution_count": 73,
   "metadata": {},
   "outputs": [
    {
     "output_type": "stream",
     "name": "stdout",
     "text": [
      "{'criterion': 'mse', 'max_depth': 14, 'min_samples_leaf': 1, 'min_samples_split': 2}\n"
     ]
    }
   ],
   "source": [
    "best_parameters = grid_search.best_params_\n",
    "print(best_parameters)"
   ]
  },
  {
   "cell_type": "code",
   "execution_count": 83,
   "metadata": {},
   "outputs": [],
   "source": [
    "modelregressor = RandomForestRegressor(random_state=20,criterion='mse', max_depth=14, min_samples_leaf=1, min_samples_split=2)"
   ]
  },
  {
   "cell_type": "code",
   "execution_count": 84,
   "metadata": {},
   "outputs": [],
   "source": [
    "scor=modelregressor.fit(X_train,y_train)"
   ]
  },
  {
   "cell_type": "code",
   "execution_count": 85,
   "metadata": {},
   "outputs": [
    {
     "output_type": "execute_result",
     "data": {
      "text/plain": [
       "0.9758553154487049"
      ]
     },
     "metadata": {},
     "execution_count": 85
    }
   ],
   "source": [
    "scor.score(X_train,y_train)"
   ]
  },
  {
   "cell_type": "code",
   "execution_count": 86,
   "metadata": {},
   "outputs": [
    {
     "output_type": "execute_result",
     "data": {
      "text/plain": [
       "0.8659769945478313"
      ]
     },
     "metadata": {},
     "execution_count": 86
    }
   ],
   "source": [
    "scor.score(X_test,y_test)"
   ]
  },
  {
   "cell_type": "code",
   "execution_count": null,
   "metadata": {},
   "outputs": [],
   "source": []
  }
 ]
}