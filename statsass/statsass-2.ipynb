{
 "metadata": {
  "language_info": {
   "codemirror_mode": {
    "name": "ipython",
    "version": 3
   },
   "file_extension": ".py",
   "mimetype": "text/x-python",
   "name": "python",
   "nbconvert_exporter": "python",
   "pygments_lexer": "ipython3",
   "version": "3.8.3-final"
  },
  "orig_nbformat": 2,
  "kernelspec": {
   "name": "python38364bitbaseconda526ad08bf2344fecabf5d93259f1a269",
   "display_name": "Python 3.8.3 64-bit ('base': conda)",
   "language": "python"
  }
 },
 "nbformat": 4,
 "nbformat_minor": 2,
 "cells": [
  {
   "source": [
    "# STATS ASS-3"
   ],
   "cell_type": "markdown",
   "metadata": {}
  },
  {
   "cell_type": "code",
   "execution_count": 48,
   "metadata": {},
   "outputs": [],
   "source": [
    "import math\n",
    "import scipy\n",
    "from statsmodels.stats import weightstats as stests\n",
    "import numpy as np"
   ]
  },
  {
   "source": [
    "# 1\n",
    "In each of the following situations, state whether it is a correctly stated hypothesis\n",
    "testing problem and why?\n",
    "1. H0: μ = 25, H1: μ ≠ 25\n",
    "2. H0: σ > 10, H1: σ = 10\n",
    "3. H0: x = 50, H1: x ≠ 50\n",
    "4. H0: p = 0.1, H1: p = 0.5\n",
    "5. H0: s = 30, H1: s > 30"
   ],
   "cell_type": "markdown",
   "metadata": {}
  },
  {
   "cell_type": "code",
   "execution_count": 49,
   "metadata": {},
   "outputs": [
    {
     "output_type": "stream",
     "name": "stdout",
     "text": [
      "yes the hypothesis is stated correctly because null hypothesis (H0)is accepted when μ = 25 and alternate hypothesis (H1) accepted when μ>25 or μ <25\n"
     ]
    }
   ],
   "source": [
    "#1 .H0: μ = 25, H1: μ ≠ 25 \n",
    "print(\"yes the hypothesis is stated correctly because null hypothesis (H0)is accepted when μ = 25 and alternate hypothesis (H1) accepted when μ>25 or μ <25\")"
   ]
  },
  {
   "cell_type": "code",
   "execution_count": 50,
   "metadata": {},
   "outputs": [
    {
     "output_type": "stream",
     "name": "stdout",
     "text": [
      "yes the hypothesis is stated correctly because null hypothesis (H0)is accepted when σ > 10 and alternate hypothesis (H1) accepted when σ = 10\n"
     ]
    }
   ],
   "source": [
    "#2. H0: σ > 10, H1: σ = 10\n",
    "print(\"yes the hypothesis is stated correctly because null hypothesis (H0)is accepted when σ > 10 and alternate hypothesis (H1) accepted when σ = 10\")"
   ]
  },
  {
   "cell_type": "code",
   "execution_count": 51,
   "metadata": {},
   "outputs": [
    {
     "output_type": "stream",
     "name": "stdout",
     "text": [
      "yes the hypothesis is stated correctly because null hypothesis (H0)is accepted when x=50 and alternate hypothesis (H1) accepted when x>50 or x<50\n"
     ]
    }
   ],
   "source": [
    "#3.H0: x = 50, H1: x ≠ 50\n",
    "print(\"yes the hypothesis is stated correctly because null hypothesis (H0)is accepted when x=50 and alternate hypothesis (H1) accepted when x>50 or x<50\")"
   ]
  },
  {
   "cell_type": "code",
   "execution_count": 52,
   "metadata": {},
   "outputs": [
    {
     "output_type": "stream",
     "name": "stdout",
     "text": [
      "yes the hypothesis is stated correctly because null hypothesis (H0)is accepted when p=0.1 and alternate hypothesis (H1) accepted when p=0.5\n"
     ]
    }
   ],
   "source": [
    "#4. H0: p = 0.1, H1: p = 0.5\n",
    "print(\"yes the hypothesis is stated correctly because null hypothesis (H0)is accepted when p=0.1 and alternate hypothesis (H1) accepted when p=0.5\")"
   ]
  },
  {
   "cell_type": "code",
   "execution_count": 53,
   "metadata": {},
   "outputs": [
    {
     "output_type": "stream",
     "name": "stdout",
     "text": [
      "yes the hypothesis is stated correctly because null hypothesis (H0)is accepted when s=30 and alternate hypothesis (H1) accepted when s>30\n"
     ]
    }
   ],
   "source": [
    "#5. H0: s = 30, H1: s > 30\n",
    "print(\"yes the hypothesis is stated correctly because null hypothesis (H0)is accepted when s=30 and alternate hypothesis (H1) accepted when s>30\")"
   ]
  },
  {
   "source": [
    "# 2"
   ],
   "cell_type": "markdown",
   "metadata": {}
  },
  {
   "cell_type": "code",
   "execution_count": 66,
   "metadata": {},
   "outputs": [
    {
     "output_type": "stream",
     "name": "stdout",
     "text": [
      "z score for 0.05 is :0.5199388058383725\nztest is : 1.7777777777777715\nas we can observe ztest value is greater than z(0.05) then we can say the given null hypothesis is false\nby these we can say that average cost of text book is greater than  RS 52\n"
     ]
    }
   ],
   "source": [
    "#0.5199\n",
    "sm=52.80\n",
    "pm=52\n",
    "se=4.5/math.sqrt(100)\n",
    "ztest=(sm-pm)/se\n",
    "x=0.05\n",
    "test=scipy.stats.norm.cdf(x)\n",
    "print(\"z condifidence score for z(0.05) is :\"+str(test))\n",
    "print(f\"ztest is : {ztest}\")\n",
    "print(\"as we can observe ztest value is greater than z(0.05) then we can say the given null hypothesis is false\")\n",
    "print(\"by these we can say that average cost of text book is greater than  RS 52\")"
   ]
  },
  {
   "source": [
    "# 3."
   ],
   "cell_type": "markdown",
   "metadata": {}
  },
  {
   "cell_type": "code",
   "execution_count": 70,
   "metadata": {},
   "outputs": [
    {
     "output_type": "stream",
     "name": "stdout",
     "text": [
      "z  condifidence score for z(0.01) is :0.5039893563146316\nztest is : -1.3258252147247767\nGenesee River chemical pollutant has reduced with improved filtration devices by compinies so the claim made by factory representatives is true\n"
     ]
    }
   ],
   "source": [
    "sm=32.5\n",
    "pm=34\n",
    "se=8/math.sqrt(50)    #se=std/sqrt(sample no)\n",
    "ztest=(sm-pm)/se\n",
    "x=0.01\n",
    "test=scipy.stats.norm.cdf(x)\n",
    "print(\"z  condifidence score for z(0.01) is :\"+str(test))\n",
    "print(f\"ztest is : {ztest}\")\n",
    "print(\"Genesee River chemical pollutant has reduced with improved filtration devices by compinies so the claim made by factory representatives is true\")"
   ]
  },
  {
   "source": [
    "# 4."
   ],
   "cell_type": "markdown",
   "metadata": {}
  },
  {
   "cell_type": "code",
   "execution_count": 99,
   "metadata": {},
   "outputs": [
    {
     "output_type": "stream",
     "name": "stdout",
     "text": [
      "ztest is :[-0.09929053 -0.93387292  0.36483947  1.24200259  1.17813149  1.63374535\n -0.85296952 -0.04393558  1.08871195 -0.76780805 -0.43142026 -1.28303494\n -1.41503521 -0.67838851 -0.5038075  -0.37180723 -0.32922649 -0.18871007\n  2.8260059  -0.15464548 -0.1205809  -0.15890356]\nfor alpha 0.5 :0.6914624612740131\n A family of four in the U.S does not spend on an average about $1135 annually on dental expenditures.\n"
     ]
    }
   ],
   "source": [
    "a=[1008, 812, 1117, 1323, 1308, 1415, 831, 1021, 1287, 851, 930, 730, 699,\n",
    "872, 913, 944, 954, 987, 1695, 995, 1003, 994]\n",
    "ztest=scipy.stats.zscore(a)\n",
    "contest=scipy.stats.norm.cdf(0.5)\n",
    "print(\"ztest is :\"+str(ztest))\n",
    "print(\"for alpha 0.5 :\"+str(contest))\n",
    "for i in ztest:\n",
    "    if (i>contest):\n",
    "      print(\" A family of four in the U.S.  spends on an average about $1135 annually on dental expenditures.\")\n",
    "    else:\n",
    "         break                 \n",
    "print(\" A family of four in the U.S does not spend on an average about $1135 annually on dental expenditures.\")    \n"
   ]
  },
  {
   "source": [
    "# 5."
   ],
   "cell_type": "markdown",
   "metadata": {}
  },
  {
   "cell_type": "code",
   "execution_count": 101,
   "metadata": {},
   "outputs": [
    {
     "output_type": "stream",
     "name": "stdout",
     "text": [
      "z  condifidence score for z(0) is :0.5\nztest is : 1.42\nthe average annual family income on Metropolis is not equal to $48,432\n"
     ]
    }
   ],
   "source": [
    "sm=48574\n",
    "pm=48432\n",
    "std=2000\n",
    "n=400\n",
    "se=std/math.sqrt(n)    #se=std/sqrt(sample no)\n",
    "ztest=(sm-pm)/se\n",
    "x=0.0\n",
    "test=scipy.stats.norm.cdf(x)\n",
    "print(\"z  condifidence score for z(0) is :\"+str(test))\n",
    "print(f\"ztest is : {ztest}\")\n",
    "print(\"the average annual family income on Metropolis is not equal to $48,432\")\n"
   ]
  },
  {
   "source": [
    "# 6"
   ],
   "cell_type": "markdown",
   "metadata": {}
  },
  {
   "cell_type": "code",
   "execution_count": 106,
   "metadata": {},
   "outputs": [
    {
     "output_type": "stream",
     "name": "stdout",
     "text": [
      "z  condifidence score for z(0.05) is :0.5199388058383725\nztest is : -2.06118477175179\nthe 2  hypothesis are \n H0:average price per square foot for warehouses in the United States is equal to $32.28 \n H1:average price per square foot for warehouses in the United States is  not equal to $32.28\nby observation we can say that null hypothesis is correct H0:average price per square foot for warehouses in the United States is equal to $32.28\n"
     ]
    }
   ],
   "source": [
    "sm=31.67\n",
    "pm=32.28\n",
    "std=1.29\n",
    "n=19\n",
    "se=std/math.sqrt(n)    #se=std/sqrt(sample no)\n",
    "ztest=(sm-pm)/se\n",
    "x=0.05\n",
    "test=scipy.stats.norm.cdf(x)\n",
    "print(f\"z  condifidence score for z({x}) is :\"+str(test))\n",
    "print(f\"ztest is : {ztest}\")\n",
    "print(\"the 2  hypothesis are \\n H0:average price per square foot for warehouses in the United States is equal to $32.28 \\n H1:average price per square foot for warehouses in the United States is  not equal to $32.28\")\n",
    "print(\"by observation we can say that null hypothesis is correct H0:average price per square foot for warehouses in the United States is equal to $32.28\")\n"
   ]
  },
  {
   "cell_type": "code",
   "execution_count": null,
   "metadata": {},
   "outputs": [],
   "source": []
  }
 ]
}