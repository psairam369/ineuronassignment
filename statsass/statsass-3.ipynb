{
 "metadata": {
  "language_info": {
   "codemirror_mode": {
    "name": "ipython",
    "version": 3
   },
   "file_extension": ".py",
   "mimetype": "text/x-python",
   "name": "python",
   "nbconvert_exporter": "python",
   "pygments_lexer": "ipython3",
   "version": "3.8.3-final"
  },
  "orig_nbformat": 2,
  "kernelspec": {
   "name": "python38364bitbaseconda526ad08bf2344fecabf5d93259f1a269",
   "display_name": "Python 3.8.3 64-bit ('base': conda)",
   "language": "python"
  }
 },
 "nbformat": 4,
 "nbformat_minor": 2,
 "cells": [
  {
   "source": [
    "# STATS ASSIGNMENT 3"
   ],
   "cell_type": "markdown",
   "metadata": {}
  },
  {
   "cell_type": "code",
   "execution_count": 10,
   "metadata": {},
   "outputs": [],
   "source": [
    "import math\n",
    "import scipy.stats"
   ]
  },
  {
   "source": [
    "# 1"
   ],
   "cell_type": "markdown",
   "metadata": {}
  },
  {
   "cell_type": "code",
   "execution_count": 15,
   "metadata": {},
   "outputs": [
    {
     "output_type": "stream",
     "name": "stdout",
     "text": [
      "z  condifidence score for z(0) is :0.5199388058383725\nztest is : 3.2\nA diet high in raw cornstarch will  have  positive effect on blood glucose levels.\n"
     ]
    }
   ],
   "source": [
    "# assuming 95% confidance level\n",
    "sm=108\n",
    "pm=100\n",
    "std=15\n",
    "n=36\n",
    "se=std/math.sqrt(n)    #se=std/sqrt(sample no)\n",
    "ztest=(sm-pm)/se\n",
    "x=0.05\n",
    "test=scipy.stats.norm.cdf(x)\n",
    "print(\"z  condifidence score for z(0) is :\"+str(test))\n",
    "print(f\"ztest is : {ztest}\")\n",
    "print(\"A diet high in raw cornstarch will  have  positive effect on blood glucose levels.\")"
   ]
  },
  {
   "source": [
    "# 2 "
   ],
   "cell_type": "markdown",
   "metadata": {}
  },
  {
   "cell_type": "code",
   "execution_count": 37,
   "metadata": {},
   "outputs": [
    {
     "output_type": "stream",
     "name": "stdout",
     "text": [
      "  probability that the survey will show a greater percentage of Republican voters in the second state than in the first state is 0.2394639918222003\n"
     ]
    }
   ],
   "source": [
    "prs1=0.52\n",
    "prs2=0.47\n",
    "qs1=0.48\n",
    "qs2=0.53\n",
    "n1=100\n",
    "n2=100\n",
    "u=0.05                          #(0.52)-(0.47)\n",
    "\n",
    "#prs1<prs2\n",
    "se=math.sqrt(((0.52)*(0.48) / 100 ) +( (0.47)*(0.53) / 100 ))\n",
    "z=(0-u)/se\n",
    "\n",
    "zp1=scipy.stats.norm.cdf(z)\n",
    "print(f\"  probability that the survey will show a greater percentage of Republican voters in the second state than in the first state is {zp1}\")"
   ]
  },
  {
   "source": [
    "# 3"
   ],
   "cell_type": "markdown",
   "metadata": {}
  },
  {
   "cell_type": "code",
   "execution_count": 29,
   "metadata": {},
   "outputs": [
    {
     "output_type": "stream",
     "name": "stdout",
     "text": [
      "the above calculation shows that my score is 0.35406698564593303 standard deviations above the mean\n"
     ]
    }
   ],
   "source": [
    "m=1100\n",
    "u=1026\n",
    "std=209\n",
    "res=(m-u)/std\n",
    "print(f'the above calculation shows that my score is {res} standard deviations above the mean')"
   ]
  },
  {
   "cell_type": "code",
   "execution_count": null,
   "metadata": {},
   "outputs": [],
   "source": []
  }
 ]
}