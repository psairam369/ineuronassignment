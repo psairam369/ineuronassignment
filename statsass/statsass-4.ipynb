{
 "metadata": {
  "language_info": {
   "codemirror_mode": {
    "name": "ipython",
    "version": 3
   },
   "file_extension": ".py",
   "mimetype": "text/x-python",
   "name": "python",
   "nbconvert_exporter": "python",
   "pygments_lexer": "ipython3",
   "version": "3.8.3-final"
  },
  "orig_nbformat": 2,
  "kernelspec": {
   "name": "python38364bitbaseconda526ad08bf2344fecabf5d93259f1a269",
   "display_name": "Python 3.8.3 64-bit ('base': conda)",
   "language": "python"
  }
 },
 "nbformat": 4,
 "nbformat_minor": 2,
 "cells": [
  {
   "cell_type": "code",
   "execution_count": 9,
   "metadata": {},
   "outputs": [],
   "source": [
    "import scipy\n",
    "import scipy.stats as stats\n",
    "import pandas as pd\n",
    "import numpy as np"
   ]
  },
  {
   "source": [
    "# 1."
   ],
   "cell_type": "markdown",
   "metadata": {}
  },
  {
   "cell_type": "code",
   "execution_count": 10,
   "metadata": {},
   "outputs": [
    {
     "output_type": "execute_result",
     "data": {
      "text/plain": [
       "        High School  Bachelors  Masters  Ph.d  Total\n",
       "female           60         54       46    41    201\n",
       "male             40         44       53    57    194\n",
       "total           100         98       99    98    395"
      ],
      "text/html": "<div>\n<style scoped>\n    .dataframe tbody tr th:only-of-type {\n        vertical-align: middle;\n    }\n\n    .dataframe tbody tr th {\n        vertical-align: top;\n    }\n\n    .dataframe thead th {\n        text-align: right;\n    }\n</style>\n<table border=\"1\" class=\"dataframe\">\n  <thead>\n    <tr style=\"text-align: right;\">\n      <th></th>\n      <th>High School</th>\n      <th>Bachelors</th>\n      <th>Masters</th>\n      <th>Ph.d</th>\n      <th>Total</th>\n    </tr>\n  </thead>\n  <tbody>\n    <tr>\n      <th>female</th>\n      <td>60</td>\n      <td>54</td>\n      <td>46</td>\n      <td>41</td>\n      <td>201</td>\n    </tr>\n    <tr>\n      <th>male</th>\n      <td>40</td>\n      <td>44</td>\n      <td>53</td>\n      <td>57</td>\n      <td>194</td>\n    </tr>\n    <tr>\n      <th>total</th>\n      <td>100</td>\n      <td>98</td>\n      <td>99</td>\n      <td>98</td>\n      <td>395</td>\n    </tr>\n  </tbody>\n</table>\n</div>"
     },
     "metadata": {},
     "execution_count": 10
    }
   ],
   "source": [
    "df=pd.DataFrame(([60,54,46,41,201],[40,44,53,57,194],[100,98,99,98,395]))\n",
    "df.index=['female','male','total']\n",
    "df.columns=['High School','Bachelors','Masters','Ph.d','Total']\n",
    "df"
   ]
  },
  {
   "cell_type": "code",
   "execution_count": 11,
   "metadata": {},
   "outputs": [],
   "source": [
    "Total=df[\"Total\"]\n",
    "c=df.T\n",
    "total=c[\"total\"]"
   ]
  },
  {
   "cell_type": "code",
   "execution_count": 12,
   "metadata": {},
   "outputs": [],
   "source": [
    "q=(total*Total['female'])/395\n",
    "r=(total*Total['male'])/395\n"
   ]
  },
  {
   "cell_type": "code",
   "execution_count": 13,
   "metadata": {},
   "outputs": [
    {
     "output_type": "execute_result",
     "data": {
      "text/plain": [
       "                 ftotal      mtotal\n",
       "High School   50.886076   49.113924\n",
       "Bachelors     49.868354   48.131646\n",
       "Masters       50.377215   48.622785\n",
       "Ph.d          49.868354   48.131646\n",
       "Total        201.000000  194.000000"
      ],
      "text/html": "<div>\n<style scoped>\n    .dataframe tbody tr th:only-of-type {\n        vertical-align: middle;\n    }\n\n    .dataframe tbody tr th {\n        vertical-align: top;\n    }\n\n    .dataframe thead th {\n        text-align: right;\n    }\n</style>\n<table border=\"1\" class=\"dataframe\">\n  <thead>\n    <tr style=\"text-align: right;\">\n      <th></th>\n      <th>ftotal</th>\n      <th>mtotal</th>\n    </tr>\n  </thead>\n  <tbody>\n    <tr>\n      <th>High School</th>\n      <td>50.886076</td>\n      <td>49.113924</td>\n    </tr>\n    <tr>\n      <th>Bachelors</th>\n      <td>49.868354</td>\n      <td>48.131646</td>\n    </tr>\n    <tr>\n      <th>Masters</th>\n      <td>50.377215</td>\n      <td>48.622785</td>\n    </tr>\n    <tr>\n      <th>Ph.d</th>\n      <td>49.868354</td>\n      <td>48.131646</td>\n    </tr>\n    <tr>\n      <th>Total</th>\n      <td>201.000000</td>\n      <td>194.000000</td>\n    </tr>\n  </tbody>\n</table>\n</div>"
     },
     "metadata": {},
     "execution_count": 13
    }
   ],
   "source": [
    "w=pd.concat([q,r],axis=1)\n",
    "w.columns=['ftotal','mtotal']\n",
    "w"
   ]
  },
  {
   "cell_type": "code",
   "execution_count": 26,
   "metadata": {},
   "outputs": [
    {
     "output_type": "execute_result",
     "data": {
      "text/plain": [
       "             female  male  total\n",
       "High School      60    40    100\n",
       "Bachelors        54    44     98\n",
       "Masters          46    53     99\n",
       "Ph.d             41    57     98"
      ],
      "text/html": "<div>\n<style scoped>\n    .dataframe tbody tr th:only-of-type {\n        vertical-align: middle;\n    }\n\n    .dataframe tbody tr th {\n        vertical-align: top;\n    }\n\n    .dataframe thead th {\n        text-align: right;\n    }\n</style>\n<table border=\"1\" class=\"dataframe\">\n  <thead>\n    <tr style=\"text-align: right;\">\n      <th></th>\n      <th>female</th>\n      <th>male</th>\n      <th>total</th>\n    </tr>\n  </thead>\n  <tbody>\n    <tr>\n      <th>High School</th>\n      <td>60</td>\n      <td>40</td>\n      <td>100</td>\n    </tr>\n    <tr>\n      <th>Bachelors</th>\n      <td>54</td>\n      <td>44</td>\n      <td>98</td>\n    </tr>\n    <tr>\n      <th>Masters</th>\n      <td>46</td>\n      <td>53</td>\n      <td>99</td>\n    </tr>\n    <tr>\n      <th>Ph.d</th>\n      <td>41</td>\n      <td>57</td>\n      <td>98</td>\n    </tr>\n  </tbody>\n</table>\n</div>"
     },
     "metadata": {},
     "execution_count": 26
    }
   ],
   "source": [
    "r=df.drop([\"Total\"],axis=1).T\n",
    "g=pd.DataFrame(r)\n",
    "g\n"
   ]
  },
  {
   "cell_type": "code",
   "execution_count": 27,
   "metadata": {},
   "outputs": [],
   "source": [
    "i=((g[\"female\"]-w[\"ftotal\"])**2)/w[\"ftotal\"]\n",
    "j=((g[\"male\"]-w[\"mtotal\"])**2)/w[\"mtotal\"]\n",
    "df1=pd.DataFrame(i)\n",
    "df2=pd.DataFrame(j)"
   ]
  },
  {
   "cell_type": "code",
   "execution_count": 28,
   "metadata": {},
   "outputs": [
    {
     "output_type": "stream",
     "name": "stdout",
     "text": [
      " chi value is : 7.814727903251179\ncalculated value is : 8.006066246262538\nThe critical value of  with 3 degree of freedom is 7.815. Since 8.006 > 7.815 and we can conclude that the education level depends on gender at a 5% level of significance.\n"
     ]
    }
   ],
   "source": [
    "q=df1.sum()\n",
    "v=df2.sum()\n",
    "result=q+v\n",
    "cvalue = stats.chi2.ppf(q = 0.95,df=3)\n",
    "print(f\" chi value is : {cvalue}\")\n",
    "print(f\"calculated value is : {result[0]}\")\n",
    "print('The critical value of  with 3 degree of freedom is 7.815. Since 8.006 > 7.815 and we can conclude that the education level depends on gender at a 5% level of significance.')"
   ]
  },
  {
   "source": [
    "# 2"
   ],
   "cell_type": "markdown",
   "metadata": {}
  },
  {
   "cell_type": "code",
   "execution_count": 29,
   "metadata": {},
   "outputs": [
    {
     "output_type": "stream",
     "name": "stdout",
     "text": [
      "True\nThe test result suggests the groups have different same sample means in this example, since the p-value is significant at a 99% confidence level. Here the p-value returned is 0.00305 which is < 0.05\n"
     ]
    }
   ],
   "source": [
    "Group1= [51, 45, 33, 45, 67]\n",
    "Group2= [23, 43, 23, 43, 45]\n",
    "Group3= [56, 76, 74, 87, 56]\n",
    "statistic, pvalue = stats.f_oneway(Group1,Group2,Group3) \n",
    "if pvalue < 0.05: print('True') \n",
    "else: print('False')\n",
    "print(\"The test result suggests the groups have different same sample means in this example, since the p-value is significant at a 99% confidence level. Here the p-value returned is 0.00305 which is < 0.05\")"
   ]
  },
  {
   "source": [
    "# 3"
   ],
   "cell_type": "markdown",
   "metadata": {}
  },
  {
   "cell_type": "code",
   "execution_count": 68,
   "metadata": {},
   "outputs": [
    {
     "output_type": "stream",
     "name": "stdout",
     "text": [
      "F Test for given 10, 20, 30, 40, 50 and 5,10,15, 20, 25 is : 4.0\n"
     ]
    }
   ],
   "source": [
    "def f_test(x, y):\n",
    "    x = np.array(x)\n",
    "    y = np.array(y)\n",
    "    f = np.var(x, ddof=1)/np.var(y, ddof=1)     #calculate F test statistic \n",
    "    dn = x.size-1                                 #define degrees of freedom numerator \n",
    "    dd = y.size-1                                #define degrees of freedom denominator \n",
    "    p = 1-scipy.stats.f.cdf(f, dn, dd)        #find p-value of F test statistic \n",
    "    return f, p\n",
    "Group1=[10, 20, 30, 40, 50] \n",
    "Group2=[5,10,15, 20, 25]\n",
    "F_Test=f_test(Group1,Group2)\n",
    "print(f\"F Test for given 10, 20, 30, 40, 50 and 5,10,15, 20, 25 is : {F_Test[0]}\")"
   ]
  },
  {
   "cell_type": "code",
   "execution_count": null,
   "metadata": {},
   "outputs": [],
   "source": []
  }
 ]
}